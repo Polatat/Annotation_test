{
 "cells": [
  {
   "cell_type": "code",
   "execution_count": 3,
   "id": "ceda7f53",
   "metadata": {},
   "outputs": [
    {
     "name": "stdout",
     "output_type": "stream",
     "text": [
      "Successfully loaded 14 variants from PGS000337_test.txt\n"
     ]
    }
   ],
   "source": [
    "import pandas as pd  \n",
    "pgs_variants = pd.read_csv(\n",
    "            'PGS000337_test.txt',\n",
    "\n",
    "            sep='\\t',\n",
    "            comment='#',\n",
    "            dtype={'chr_name': str} # Read chromosome as string to avoid issues\n",
    ")\n",
    "\n",
    "print(f\"Successfully loaded {len(pgs_variants)} variants from {'PGS000337_test.txt'}\")\n"
   ]
  },
  {
   "cell_type": "code",
   "execution_count": 7,
   "id": "10fed9b4",
   "metadata": {},
   "outputs": [],
   "source": [
    "from pathlib import Path\n",
    "\n",
    "PGS_FILE_PATH = Path(\"../data/PGS000337.txt\")\n"
   ]
  },
  {
   "cell_type": "code",
   "execution_count": 8,
   "id": "8326f9c5",
   "metadata": {},
   "outputs": [
    {
     "name": "stdout",
     "output_type": "stream",
     "text": [
      "Successfully loaded 75028 variants from ../data/PGS000337.txt\n"
     ]
    }
   ],
   "source": [
    "import pandas as pd\n",
    "\n",
    "pgs_variants = pd.read_csv(\n",
    "            PGS_FILE_PATH,\n",
    "            sep='\\t',\n",
    "            comment='#',\n",
    "            dtype={'chr_name': str} # Read chromosome as string to avoid issues\n",
    "        )\n",
    "print(f\"Successfully loaded {len(pgs_variants)} variants from {PGS_FILE_PATH}\")\n"
   ]
  },
  {
   "cell_type": "code",
   "execution_count": null,
   "id": "f5c82c6a",
   "metadata": {},
   "outputs": [
    {
     "name": "stdout",
     "output_type": "stream",
     "text": [
      "      chr_name  chr_position effect_allele  effect_weight variant_description\n",
      "0            1        959231             A       0.011321        1:959231:G:A\n",
      "1            1       1119858             T      -0.016588       1:1119858:C:T\n",
      "2            1       1122024             C       0.013543       1:1122024:T:C\n",
      "3            1       1154858             T      -0.024307       1:1154858:C:T\n",
      "4            1       1171417             T      -0.012684       1:1171417:C:T\n",
      "...        ...           ...           ...            ...                 ...\n",
      "75023       22      51091914             T       0.020546     22:51091914:C:T\n",
      "75024       22      51095286             T       0.022332     22:51095286:C:T\n",
      "75025       22      51104170             G       0.011036     22:51104170:A:G\n",
      "75026       22      51115863             A       0.021235     22:51115863:G:A\n",
      "75027       22      51148424             A       0.016764     22:51148424:G:A\n",
      "\n",
      "[75028 rows x 5 columns]\n"
     ]
    }
   ],
   "source": [
    "print(pgs_variants)\n"
   ]
  },
  {
   "cell_type": "code",
   "execution_count": 13,
   "id": "867290d0",
   "metadata": {},
   "outputs": [],
   "source": [
    "pgs_variants.to_csv(Path(\"../data/pgs_varaints_test01.txt\"), index=False)"
   ]
  }
 ],
 "metadata": {
  "kernelspec": {
   "display_name": ".venv",
   "language": "python",
   "name": "python3"
  },
  "language_info": {
   "codemirror_mode": {
    "name": "ipython",
    "version": 3
   },
   "file_extension": ".py",
   "mimetype": "text/x-python",
   "name": "python",
   "nbconvert_exporter": "python",
   "pygments_lexer": "ipython3",
   "version": "3.12.2"
  }
 },
 "nbformat": 4,
 "nbformat_minor": 5
}
