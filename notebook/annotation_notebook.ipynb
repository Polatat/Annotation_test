{
 "cells": [
  {
   "cell_type": "code",
   "execution_count": 3,
   "id": "ceda7f53",
   "metadata": {},
   "outputs": [
    {
     "name": "stdout",
     "output_type": "stream",
     "text": [
      "Successfully loaded 14 variants from PGS000337_test.txt\n"
     ]
    }
   ],
   "source": [
    "import pandas as pd  \n",
    "pgs_variants = pd.read_csv(\n",
    "            'PGS000337_test.txt',\n",
    "\n",
    "            sep='\\t',\n",
    "            comment='#',\n",
    "            dtype={'chr_name': str} # Read chromosome as string to avoid issues\n",
    ")\n",
    "\n",
    "print(f\"Successfully loaded {len(pgs_variants)} variants from {'PGS000337_test.txt'}\")\n"
   ]
  }
 ],
 "metadata": {
  "kernelspec": {
   "display_name": ".venv",
   "language": "python",
   "name": "python3"
  },
  "language_info": {
   "codemirror_mode": {
    "name": "ipython",
    "version": 3
   },
   "file_extension": ".py",
   "mimetype": "text/x-python",
   "name": "python",
   "nbconvert_exporter": "python",
   "pygments_lexer": "ipython3",
   "version": "3.12.2"
  }
 },
 "nbformat": 4,
 "nbformat_minor": 5
}
